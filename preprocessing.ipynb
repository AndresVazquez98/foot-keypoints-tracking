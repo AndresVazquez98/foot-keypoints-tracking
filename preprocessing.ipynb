{
 "cells": [
  {
   "cell_type": "code",
   "execution_count": 45,
   "id": "f55b1cf4",
   "metadata": {},
   "outputs": [],
   "source": [
    "import glob\n",
    "import numpy as np\n",
    "import os,shutil,json"
   ]
  },
  {
   "cell_type": "code",
   "execution_count": 50,
   "id": "f1c7535f",
   "metadata": {},
   "outputs": [
    {
     "name": "stdout",
     "output_type": "stream",
     "text": [
      "3873\n",
      "3678\n"
     ]
    }
   ],
   "source": [
    "train_images_folder = './custom_keypoint/20_keypoints/train/images'\n",
    "train_annotations_folder = './custom_keypoint/20_keypoints/train/annotations'\n",
    "test_images_folder = './custom_keypoint/20_keypoints/test/images'\n",
    "test_annotations_folder = './custom_keypoint/20_keypoints/test/annotations'\n",
    "\n",
    "images_paths = glob.glob('results/*/images/*.jpg')\n",
    "annotations_paths = glob.glob('results/*/annotations/*.json')\n",
    "print(len(images_paths))\n",
    "images_paths_clear,annotations_paths_clear = [],[]\n",
    "for images_path,annotations_path in zip(images_paths,annotations_paths):\n",
    "    with open(annotations_path) as f:\n",
    "            data = json.load(f)\n",
    "    keypoints_original = data['keypoints']\n",
    "    if len(keypoints_original[0]) == 20:\n",
    "        images_paths_clear.append(images_path)\n",
    "        annotations_paths_clear.append(annotations_path)\n",
    "images_paths = images_paths_clear\n",
    "annotations_paths = annotations_paths_clear\n",
    "print(len(images_paths))"
   ]
  },
  {
   "cell_type": "code",
   "execution_count": 47,
   "id": "c8562d15",
   "metadata": {},
   "outputs": [],
   "source": [
    "train_per = 80 \n",
    "indices = np.random.choice(len(images_paths),len(images_paths))\n",
    "\n",
    "#np.random.shuffle(indices)\n",
    "\n",
    "images_paths = np.array(images_paths)[indices]\n",
    "annotations_paths = np.array(annotations_paths)[indices]\n",
    "\n",
    "train_images=images_paths[:train_per]\n",
    "train_annotations=annotations_paths[:train_per]\n",
    "\n",
    "test_images=images_paths[train_per:]\n",
    "test_annotations=annotations_paths[train_per:]"
   ]
  },
  {
   "cell_type": "code",
   "execution_count": 48,
   "id": "1822ec44",
   "metadata": {},
   "outputs": [
    {
     "data": {
      "text/plain": [
       "(3678,)"
      ]
     },
     "execution_count": 48,
     "metadata": {},
     "output_type": "execute_result"
    }
   ],
   "source": [
    "indices.shape"
   ]
  },
  {
   "cell_type": "code",
   "execution_count": 49,
   "id": "b55bfef4",
   "metadata": {},
   "outputs": [],
   "source": [
    "for train_image,train_annotation in zip(train_images,train_annotations):\n",
    "    train_image_name = os.path.basename(train_image)\n",
    "    train_annotation_name = os.path.basename(train_annotation)\n",
    "    shutil.copy(train_image, os.path.join(train_images_folder,train_image_name))\n",
    "    shutil.copy(train_annotation, os.path.join(train_annotations_folder,train_annotation_name))\n",
    "\n",
    "for test_image,test_annotation in zip(test_images,test_annotations):\n",
    "    test_image_name = os.path.basename(test_image)\n",
    "    test_annotation_name = os.path.basename(test_annotation)\n",
    "    shutil.copy(test_image, os.path.join(test_images_folder,test_image_name))\n",
    "    shutil.copy(test_annotation, os.path.join(test_annotations_folder,test_annotation_name))\n",
    "    "
   ]
  },
  {
   "cell_type": "code",
   "execution_count": null,
   "id": "530908a7",
   "metadata": {},
   "outputs": [],
   "source": []
  },
  {
   "cell_type": "code",
   "execution_count": null,
   "id": "75c2c2d8",
   "metadata": {},
   "outputs": [],
   "source": []
  }
 ],
 "metadata": {
  "kernelspec": {
   "display_name": "Python 3",
   "language": "python",
   "name": "python3"
  },
  "language_info": {
   "codemirror_mode": {
    "name": "ipython",
    "version": 3
   },
   "file_extension": ".py",
   "mimetype": "text/x-python",
   "name": "python",
   "nbconvert_exporter": "python",
   "pygments_lexer": "ipython3",
   "version": "3.8.8"
  }
 },
 "nbformat": 4,
 "nbformat_minor": 5
}
